{
 "cells": [
  {
   "cell_type": "code",
   "execution_count": null,
   "id": "married-nigeria",
   "metadata": {},
   "outputs": [],
   "source": [
    "%pylab inline\n",
    "import couchdb\n",
    "import pandas as pd\n",
    "import seaborn as sns"
   ]
  },
  {
   "cell_type": "code",
   "execution_count": null,
   "id": "systematic-deposit",
   "metadata": {},
   "outputs": [],
   "source": [
    "user = \"\"\n",
    "password = \"\"\n",
    "couchserver = couchdb.Server(\"http://%s:%s@localhost:5984/\" % (user, password))"
   ]
  },
  {
   "cell_type": "code",
   "execution_count": null,
   "id": "valuable-chair",
   "metadata": {},
   "outputs": [],
   "source": [
    "for dbname in couchserver:\n",
    "    print(dbname)"
   ]
  },
  {
   "cell_type": "code",
   "execution_count": null,
   "id": "innocent-sugar",
   "metadata": {},
   "outputs": [],
   "source": [
    "db = couchserver['prebidlog']"
   ]
  },
  {
   "cell_type": "code",
   "execution_count": null,
   "id": "alike-feedback",
   "metadata": {},
   "outputs": [],
   "source": [
    "rows = db.view('_all_docs', include_docs=True)\n",
    "data = [row['doc'] for row in rows]\n",
    "df = pd.DataFrame(data)"
   ]
  },
  {
   "cell_type": "code",
   "execution_count": null,
   "id": "cutting-rachel",
   "metadata": {},
   "outputs": [],
   "source": [
    "df['dt'] = pd.to_datetime(df['timestamp'], unit='ms')"
   ]
  },
  {
   "cell_type": "code",
   "execution_count": null,
   "id": "comparable-tuition",
   "metadata": {},
   "outputs": [],
   "source": [
    "auctionId = 'ff04d1dd-6321-4e31-8024-23ea415db605'\n",
    "df[df['auctionId'] == auctionId]"
   ]
  },
  {
   "cell_type": "markdown",
   "id": "oriental-brick",
   "metadata": {},
   "source": [
    "# Bidder stats"
   ]
  },
  {
   "cell_type": "code",
   "execution_count": null,
   "id": "refined-injection",
   "metadata": {},
   "outputs": [],
   "source": [
    "df.groupby('bidder')['auctionId'].count().sort_values(ascending=False)"
   ]
  },
  {
   "cell_type": "code",
   "execution_count": null,
   "id": "fabulous-backing",
   "metadata": {},
   "outputs": [],
   "source": [
    "df.groupby('bidder')['auctionId'].count().sort_values(ascending=False).plot(kind='bar')"
   ]
  },
  {
   "cell_type": "code",
   "execution_count": null,
   "id": "bibliographic-player",
   "metadata": {},
   "outputs": [],
   "source": [
    "bids = df.groupby('bidder')['auctionId'].count()\n",
    "bidder_freq = bids / df.groupby('bidder')['auctionId'].count().sum() * 100\n",
    "bidder_freq.sort_values(ascending=False).plot(kind='bar', title=\"Bid frequency (% bids)\")"
   ]
  },
  {
   "cell_type": "markdown",
   "id": "comic-gambling",
   "metadata": {},
   "source": [
    "## Auction density"
   ]
  },
  {
   "cell_type": "code",
   "execution_count": null,
   "id": "noted-notice",
   "metadata": {},
   "outputs": [],
   "source": [
    "auction_bidders = df.groupby('auctionId')['bidder'].count()\n",
    "auction_bidders"
   ]
  },
  {
   "cell_type": "code",
   "execution_count": null,
   "id": "sixth-morgan",
   "metadata": {},
   "outputs": [],
   "source": [
    "auction_bidders.describe()"
   ]
  },
  {
   "cell_type": "code",
   "execution_count": null,
   "id": "clear-rapid",
   "metadata": {},
   "outputs": [],
   "source": [
    "sns.boxplot(x=auction_bidders)"
   ]
  },
  {
   "cell_type": "markdown",
   "id": "damaged-worth",
   "metadata": {},
   "source": [
    "## Co-occurrence of bidders"
   ]
  },
  {
   "cell_type": "code",
   "execution_count": null,
   "id": "comic-celtic",
   "metadata": {},
   "outputs": [],
   "source": [
    "df[['auctionId', 'bidder']]\n",
    "bag_of_bidders = df.groupby('auctionId')['bidder'].agg(size= len, bidders= lambda x: set(x))\n",
    "bag_of_bidders"
   ]
  },
  {
   "cell_type": "code",
   "execution_count": null,
   "id": "marine-crystal",
   "metadata": {},
   "outputs": [],
   "source": [
    "df.groupby('bidder')['auctionId'].count().sort_values(ascending=False)[:20]"
   ]
  },
  {
   "cell_type": "code",
   "execution_count": null,
   "id": "conceptual-reason",
   "metadata": {},
   "outputs": [],
   "source": [
    "k = 20\n",
    "top_k_bidders = df.groupby('bidder')['auctionId'].count().sort_values(ascending=False)[:k-1]\n",
    "top_k_bidders = list(top_k_bidders.index.values)\n",
    "top_k_bidders"
   ]
  },
  {
   "cell_type": "code",
   "execution_count": null,
   "id": "proprietary-morrison",
   "metadata": {},
   "outputs": [],
   "source": [
    "bidders = df[df.bidder.isin(top_k_bidders)]"
   ]
  },
  {
   "cell_type": "code",
   "execution_count": null,
   "id": "plain-penny",
   "metadata": {},
   "outputs": [],
   "source": [
    "from itertools import combinations"
   ]
  },
  {
   "cell_type": "code",
   "execution_count": null,
   "id": "sustainable-malaysia",
   "metadata": {},
   "outputs": [],
   "source": [
    "edges = bidders.groupby(['auctionId'], group_keys=False).apply(\n",
    "    lambda x: pd.DataFrame(list(combinations(x['bidder'], 2)), \n",
    "                           columns=['bidder1', 'bidder2'])).reset_index(drop=True)\n",
    "print(edges)\n"
   ]
  },
  {
   "cell_type": "code",
   "execution_count": null,
   "id": "hispanic-contest",
   "metadata": {},
   "outputs": [],
   "source": [
    "cooc = pd.crosstab(edges.bidder1, edges.bidder2)\n",
    "cooc"
   ]
  },
  {
   "cell_type": "code",
   "execution_count": null,
   "id": "delayed-concert",
   "metadata": {},
   "outputs": [],
   "source": [
    "sns.heatmap(cooc, robust=True)"
   ]
  },
  {
   "cell_type": "markdown",
   "id": "bigger-couple",
   "metadata": {},
   "source": [
    "# Winner stats"
   ]
  },
  {
   "cell_type": "code",
   "execution_count": null,
   "id": "coral-edward",
   "metadata": {},
   "outputs": [],
   "source": [
    "df['winnerName'] = df[~df['winner'].isnull()]['winner'].apply(lambda x: x['bidder'])\n",
    "df['winnerBidCpm'] = df[~df['winner'].isnull()]['winner'].apply(lambda x: float(x['bidCpm']) if x['bidCpm'] else 0.0)"
   ]
  },
  {
   "cell_type": "markdown",
   "id": "figured-bacon",
   "metadata": {},
   "source": [
    "Auctions won"
   ]
  },
  {
   "cell_type": "code",
   "execution_count": null,
   "id": "attempted-pilot",
   "metadata": {},
   "outputs": [],
   "source": [
    "winner = df[~df['winner'].isnull()].groupby('winnerName').count()['auctionId'].sort_values(ascending=False)"
   ]
  },
  {
   "cell_type": "markdown",
   "id": "sorted-stereo",
   "metadata": {},
   "source": [
    "Winners CPM"
   ]
  },
  {
   "cell_type": "code",
   "execution_count": null,
   "id": "after-brooks",
   "metadata": {},
   "outputs": [],
   "source": [
    "df[~df['winner'].isnull()].groupby('winnerName').agg({'winnerBidCpm': sum})['winnerBidCpm'].sort_values(ascending=False)"
   ]
  },
  {
   "cell_type": "markdown",
   "id": "happy-significance",
   "metadata": {},
   "source": [
    "Win rate"
   ]
  },
  {
   "cell_type": "code",
   "execution_count": null,
   "id": "stopped-wireless",
   "metadata": {},
   "outputs": [],
   "source": [
    "winners = df[~df['winner'].isnull()].groupby('winnerName').count()['winner'].reset_index()\n",
    "bidders = df.groupby('bidder').count()['auctionId'].reset_index()\n",
    "bidders['bidder'] = bidders['bidder'].apply(lambda x: x.lower())\n",
    "merged = pd.merge(winners, bidders, left_on='winnerName', right_on='bidder')\n",
    "merged['winRate'] = merged['winner'] / merged['auctionId']\n"
   ]
  },
  {
   "cell_type": "code",
   "execution_count": null,
   "id": "lesser-feature",
   "metadata": {},
   "outputs": [],
   "source": [
    "merged[['bidder', 'winRate']].sort_values(by='winRate', ascending=False) * 100"
   ]
  }
 ],
 "metadata": {
  "kernelspec": {
   "display_name": "Python 3",
   "language": "python",
   "name": "python3"
  },
  "language_info": {
   "codemirror_mode": {
    "name": "ipython",
    "version": 3
   },
   "file_extension": ".py",
   "mimetype": "text/x-python",
   "name": "python",
   "nbconvert_exporter": "python",
   "pygments_lexer": "ipython3",
   "version": "3.7.3"
  }
 },
 "nbformat": 4,
 "nbformat_minor": 5
}
